{
 "cells": [
  {
   "cell_type": "code",
   "execution_count": 1,
   "metadata": {},
   "outputs": [],
   "source": [
    "import numpy as np\n",
    "import matplotlib.pyplot as plt"
   ]
  },
  {
   "cell_type": "markdown",
   "metadata": {},
   "source": [
    "## Function"
   ]
  },
  {
   "cell_type": "code",
   "execution_count": 2,
   "metadata": {},
   "outputs": [],
   "source": [
    "def generate_data(m, d):\n",
    "    X = np.random.normal(0, 1, (m, d))\n",
    "    xi = np.random.normal(0, 1, m)\n",
    "    theta = np.random.choice([0, 1], d)\n",
    "    y = X @ theta + xi\n",
    "    return X, y, theta"
   ]
  },
  {
   "cell_type": "code",
   "execution_count": 3,
   "metadata": {},
   "outputs": [],
   "source": [
    "def H(X, y, theta):\n",
    "    h = y - X @ theta\n",
    "    return np.dot(-h, h)"
   ]
  },
  {
   "cell_type": "code",
   "execution_count": 4,
   "metadata": {},
   "outputs": [],
   "source": [
    "def Metropolis_Hastings(X, y, theta_0, N, beta):\n",
    "    d = theta_0.shape[0]\n",
    "    theta = theta_0.copy()\n",
    "    for s in range(N):\n",
    "        i = np.random.randint(d) \n",
    "        theta_proposed = theta.copy()\n",
    "        theta_proposed[i] = 1 - theta_proposed[i]\n",
    "        H_current = H(X, y, theta)\n",
    "        H_proposed = H(X, y, theta_proposed)\n",
    "        acceptance_ratio = min(1, np.exp(-beta*(H_proposed - H_current)))\n",
    "        if np.random.rand() < acceptance_ratio:\n",
    "            theta = theta_proposed\n",
    "    return theta"
   ]
  },
  {
   "cell_type": "code",
   "execution_count": 5,
   "metadata": {},
   "outputs": [],
   "source": [
    "def MSE(theta_true, theta_predict):\n",
    "    residuals = theta_predict - theta_true\n",
    "    return np.dot(residuals.T, residuals)"
   ]
  },
  {
   "cell_type": "markdown",
   "metadata": {},
   "source": [
    "## Algorithm"
   ]
  },
  {
   "cell_type": "code",
   "execution_count": 6,
   "metadata": {},
   "outputs": [],
   "source": [
    "d = 10\n",
    "m = 15\n",
    "ms = range(1, m + 1)\n",
    "beta = np.linspace(0.01, 2.5, 10)\n",
    "N = 100\n",
    "M = 1000    "
   ]
  },
  {
   "cell_type": "code",
   "execution_count": null,
   "metadata": {},
   "outputs": [],
   "source": []
  }
 ],
 "metadata": {
  "kernelspec": {
   "display_name": "Python 3",
   "language": "python",
   "name": "python3"
  },
  "language_info": {
   "codemirror_mode": {
    "name": "ipython",
    "version": 3
   },
   "file_extension": ".py",
   "mimetype": "text/x-python",
   "name": "python",
   "nbconvert_exporter": "python",
   "pygments_lexer": "ipython3",
   "version": "3.12.1"
  }
 },
 "nbformat": 4,
 "nbformat_minor": 2
}
